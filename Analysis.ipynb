{
 "cells": [
  {
   "cell_type": "code",
   "execution_count": null,
   "metadata": {
    "collapsed": true,
    "pycharm": {
     "name": "#%%\n"
    }
   },
   "outputs": [],
   "source": [
    "from scrapy import Selector\n",
    "import pandas as pd\n",
    "import requests\n",
    "import json\n",
    "import time\n",
    "import urllib.parse"
   ]
  },
  {
   "cell_type": "code",
   "execution_count": null,
   "metadata": {
    "collapsed": false,
    "pycharm": {
     "name": "#%%\n"
    }
   },
   "outputs": [],
   "source": [
    "HEADERS = {\n",
    "    \"Accept\": \"*/*\",\n",
    "    \"User-Agent\": \"Thunder Client (https://www.thunderclient.com)\"\n",
    "}"
   ]
  },
  {
   "cell_type": "code",
   "execution_count": null,
   "metadata": {
    "collapsed": false,
    "pycharm": {
     "name": "#%%\n"
    }
   },
   "outputs": [],
   "source": [
    "HTML_source_code = []\n",
    "\n",
    "for page in range(1,56):\n",
    "    url_string = f\"http://api.glassdoor.com/api/api.htm?t.p={USER}&t.k={key}&userip=0.0.0.0&useragent&format=json&v=1&action=employers&l=MX&pn={page}\"\n",
    "    req = requests.get(url_string, headers=HEADERS)\n",
    "    print(req.status_code)\n",
    "    HTML_source_code.append(req.text)\n",
    "    time.sleep(3)"
   ]
  },
  {
   "cell_type": "code",
   "execution_count": null,
   "metadata": {
    "collapsed": false,
    "pycharm": {
     "name": "#%%\n"
    }
   },
   "outputs": [],
   "source": [
    "json_data = json.loads(req.text)"
   ]
  },
  {
   "cell_type": "code",
   "execution_count": null,
   "metadata": {
    "collapsed": false,
    "pycharm": {
     "name": "#%%\n"
    }
   },
   "outputs": [],
   "source": [
    "total_registros = json_data['response']['totalRecordCount']"
   ]
  },
  {
   "cell_type": "code",
   "execution_count": null,
   "metadata": {
    "collapsed": false,
    "pycharm": {
     "name": "#%%\n"
    }
   },
   "outputs": [],
   "source": [
    "total_registros"
   ]
  },
  {
   "cell_type": "code",
   "execution_count": null,
   "metadata": {
    "collapsed": false,
    "pycharm": {
     "name": "#%%\n"
    }
   },
   "outputs": [],
   "source": [
    "json_data['response']['attributionURL']"
   ]
  },
  {
   "cell_type": "code",
   "execution_count": null,
   "metadata": {
    "collapsed": false,
    "pycharm": {
     "name": "#%%\n"
    }
   },
   "outputs": [],
   "source": [
    "len(json_data['response']['employers'])"
   ]
  },
  {
   "cell_type": "code",
   "execution_count": null,
   "metadata": {
    "collapsed": false,
    "pycharm": {
     "name": "#%%\n"
    }
   },
   "outputs": [],
   "source": [
    "employer_name = []\n",
    "employer_website = []\n",
    "employer_sectorName = []\n",
    "employer_ceo = []\n",
    "employer_main_review_url = []\n",
    "benefits_url = []\n",
    "\n",
    "for page_source in HTML_source_code:\n",
    "    try:\n",
    "        json_data = json.loads(page_source)\n",
    "        #print(f\"{employer['name']}-{employer['website']}-{employer['sectorName']}-{employer['ceo']['name']}\"\n",
    "        #      f\"{employer['featuredReview']['attributionURL']}\")\n",
    "\n",
    "        for employer in json_data['response']['employers']:\n",
    "            employer_name.append(employer['name'])\n",
    "            employer_website.append(employer['website'])\n",
    "\n",
    "            if  'sectorName'  in employer.keys():\n",
    "                employer_sectorName.append(employer['sectorName'])\n",
    "            else:\n",
    "                employer_sectorName.append('Sin clasificar')\n",
    "\n",
    "            if 'ceo' in employer.keys():\n",
    "                employer_ceo.append(employer['ceo']['name'])\n",
    "            else:\n",
    "                employer_ceo.append('Sin información')\n",
    "\n",
    "            employer_main_review_url.append(employer['featuredReview']['attributionURL'])\n",
    "    except:\n",
    "        print(\"Page source could not be loaded\")\n",
    "\n",
    "        #print(f\"{employer['name']}-{employer['website']}-{employer['sectorName']}-{employer['ceo']['name']}\"\n",
    "        #  f\"{employer['featuredReview']['attributionURL']}\")\n",
    "\n",
    "db = pd.DataFrame({\n",
    "    'Empresa': employer_name,\n",
    "    'URL_Empresa': employer_website,\n",
    "    'Sector': employer_sectorName,\n",
    "    'CEO': employer_ceo,\n",
    "    'Review URL': employer_main_review_url,\n",
    "    'Benefits URL': ''\n",
    "})\n",
    "\n",
    "db"
   ]
  },
  {
   "cell_type": "code",
   "execution_count": null,
   "metadata": {
    "collapsed": false,
    "pycharm": {
     "name": "#%%\n"
    }
   },
   "outputs": [],
   "source": [
    "import concurrent.futures\n",
    "from utils import current_url, benefits_html, NUM_THREADS, scrape_url\n",
    "\n",
    "print(current_url)"
   ]
  },
  {
   "cell_type": "code",
   "execution_count": null,
   "metadata": {
    "collapsed": false,
    "pycharm": {
     "name": "#%%\n"
    }
   },
   "outputs": [],
   "source": [
    "from selenium.webdriver.firefox import webdriver"
   ]
  },
  {
   "cell_type": "code",
   "execution_count": null,
   "metadata": {
    "collapsed": false,
    "pycharm": {
     "name": "#%%\n"
    }
   },
   "outputs": [],
   "source": [
    "db"
   ]
  },
  {
   "cell_type": "code",
   "execution_count": null,
   "metadata": {
    "collapsed": false,
    "pycharm": {
     "name": "#%%\n"
    }
   },
   "outputs": [],
   "source": [
    "import requests"
   ]
  },
  {
   "cell_type": "code",
   "execution_count": null,
   "metadata": {
    "collapsed": false,
    "pycharm": {
     "name": "#%%\n"
    }
   },
   "outputs": [],
   "source": [
    "from requests_html import HTMLSession, AsyncHTMLSession"
   ]
  },
  {
   "cell_type": "code",
   "execution_count": null,
   "metadata": {
    "collapsed": false,
    "pycharm": {
     "name": "#%%\n"
    }
   },
   "outputs": [],
   "source": [
    "r = requests.get('https://www.glassdoor.com.mx/Prestaciones/Walmart-México-Prestaciones-EI_IE715.0,7_IL.8,14_IN169.htm', headers=HEADERS)"
   ]
  },
  {
   "cell_type": "code",
   "execution_count": null,
   "metadata": {
    "collapsed": false,
    "pycharm": {
     "name": "#%%\n"
    }
   },
   "outputs": [],
   "source": [
    "selector = Selector(text=r.text)"
   ]
  },
  {
   "cell_type": "code",
   "execution_count": null,
   "metadata": {
    "collapsed": false,
    "pycharm": {
     "name": "#%%\n"
    }
   },
   "outputs": [],
   "source": [
    "selector.xpath('//a[contains(@class, \"benefits\")]/@href')"
   ]
  },
  {
   "cell_type": "code",
   "execution_count": null,
   "metadata": {
    "collapsed": false,
    "pycharm": {
     "name": "#%%\n"
    }
   },
   "outputs": [],
   "source": [
    "asession = AsyncHTMLSession()\n",
    "r = await asession.get('https://www.glassdoor.com.mx/Prestaciones/Walmart-México-Prestaciones-EI_IE715.0,7_IL.8,14_IN169.htm')\n",
    "await r.html.arender()"
   ]
  },
  {
   "cell_type": "code",
   "execution_count": null,
   "metadata": {
    "collapsed": false,
    "pycharm": {
     "name": "#%%\n"
    }
   },
   "outputs": [],
   "source": [
    "r.html.raw_html"
   ]
  },
  {
   "cell_type": "code",
   "execution_count": null,
   "metadata": {
    "collapsed": false,
    "pycharm": {
     "name": "#%%\n"
    }
   },
   "outputs": [],
   "source": [
    "from scrapy import Selector"
   ]
  },
  {
   "cell_type": "code",
   "execution_count": null,
   "metadata": {
    "collapsed": false,
    "pycharm": {
     "name": "#%%\n"
    }
   },
   "outputs": [],
   "source": [
    "selector = Selector(text=r.html.raw_html)"
   ]
  },
  {
   "cell_type": "code",
   "execution_count": null,
   "metadata": {
    "collapsed": false,
    "pycharm": {
     "name": "#%%\n"
    }
   },
   "outputs": [],
   "source": [
    "selector.xpath('//a[contains(@class, \"benefits\")]/@href').extract_first()"
   ]
  },
  {
   "cell_type": "code",
   "execution_count": null,
   "metadata": {
    "collapsed": false,
    "pycharm": {
     "name": "#%%\n"
    }
   },
   "outputs": [],
   "source": [
    "response = requests.get(\"https://www.glassdoor.com.mx/Prestaciones/Walmart-México-Prestaciones-EI_IE715.0,7_IL.8,14_IN169.htm\", headers=HEADERS)"
   ]
  },
  {
   "cell_type": "code",
   "execution_count": null,
   "metadata": {
    "collapsed": false,
    "pycharm": {
     "name": "#%%\n"
    }
   },
   "outputs": [],
   "source": [
    "selector = Selector(text=response.text)"
   ]
  },
  {
   "cell_type": "code",
   "execution_count": null,
   "metadata": {
    "collapsed": false,
    "pycharm": {
     "name": "#%%\n"
    }
   },
   "outputs": [],
   "source": [
    "#for e in selector.xpath('//div/div[contains(@class, \"p-std\")]/h3/text()').extract():\n",
    "for e in selector.xpath('//div/div[contains(@class, \"p-std\")]'):\n",
    "    benefit_name = e.xpath('.//h3/text()').extract_first()\n",
    "    element_list = e.xpath('.//div[contains(@class, \"css-1sapift\")]//a/text()').extract()\n",
    "    if element_list:\n",
    "        print(f\"{benefit_name}-> {','.join(element_list)}\")\n",
    "#    print('//div/div[contains(@class, \"p-std\")])"
   ]
  },
  {
   "cell_type": "code",
   "execution_count": null,
   "metadata": {
    "collapsed": false,
    "pycharm": {
     "name": "#%%\n"
    }
   },
   "outputs": [],
   "source": [
    "\n",
    "selector.xpath('//div/div[contains(@class, \"p-std\")]/div[contains(@class, \"css-1sapift\")]//a/text()').extract()"
   ]
  },
  {
   "cell_type": "code",
   "execution_count": null,
   "metadata": {
    "collapsed": false,
    "pycharm": {
     "name": "#%%\n"
    }
   },
   "outputs": [],
   "source": [
    "selector.xpath('//div/div[contains(@class, \"css-1sapift\")]//*[@data-test]')"
   ]
  },
  {
   "cell_type": "code",
   "execution_count": null,
   "metadata": {
    "collapsed": false,
    "pycharm": {
     "name": "#%%\n"
    }
   },
   "outputs": [],
   "source": [
    "import pandas as pd"
   ]
  },
  {
   "cell_type": "code",
   "execution_count": null,
   "metadata": {
    "collapsed": false,
    "pycharm": {
     "name": "#%%\n"
    }
   },
   "outputs": [],
   "source": [
    "tmp_db = pd.read_csv('tmp_db.csv')\n",
    "benefits_db = pd.read_csv('benefits_db.csv')"
   ]
  },
  {
   "cell_type": "code",
   "execution_count": null,
   "metadata": {
    "collapsed": false,
    "pycharm": {
     "name": "#%%\n"
    }
   },
   "outputs": [],
   "source": [
    "tmp_db.drop(columns=['Unnamed: 0'], inplace=True)"
   ]
  },
  {
   "cell_type": "code",
   "execution_count": null,
   "metadata": {
    "collapsed": false,
    "pycharm": {
     "name": "#%%\n"
    }
   },
   "outputs": [],
   "source": [
    "tmp_db"
   ]
  },
  {
   "cell_type": "code",
   "execution_count": null,
   "metadata": {
    "collapsed": false,
    "pycharm": {
     "name": "#%%\n"
    }
   },
   "outputs": [],
   "source": [
    "benefits_db.drop(columns=['Unnamed: 0'], inplace=True)"
   ]
  },
  {
   "cell_type": "code",
   "execution_count": null,
   "metadata": {
    "collapsed": false,
    "pycharm": {
     "name": "#%%\n"
    }
   },
   "outputs": [],
   "source": [
    "benefits_db"
   ]
  },
  {
   "cell_type": "code",
   "execution_count": null,
   "metadata": {
    "collapsed": false,
    "pycharm": {
     "name": "#%%\n"
    }
   },
   "outputs": [],
   "source": [
    "merged = tmp_db.merge(benefits_db, indicator=True, how='left', on=\"benefits_url\")"
   ]
  },
  {
   "cell_type": "code",
   "execution_count": null,
   "metadata": {
    "collapsed": false,
    "pycharm": {
     "name": "#%%\n"
    }
   },
   "outputs": [],
   "source": [
    "pending_urls = merged[merged['_merge'] == 'left_only']"
   ]
  },
  {
   "cell_type": "code",
   "execution_count": null,
   "metadata": {
    "collapsed": false,
    "pycharm": {
     "name": "#%%\n"
    }
   },
   "outputs": [],
   "source": [
    "pending_urls"
   ]
  },
  {
   "cell_type": "code",
   "execution_count": null,
   "metadata": {
    "collapsed": false,
    "pycharm": {
     "name": "#%%\n"
    }
   },
   "outputs": [],
   "source": [
    "len(pending_urls)"
   ]
  },
  {
   "cell_type": "code",
   "execution_count": null,
   "metadata": {
    "collapsed": false,
    "pycharm": {
     "name": "#%%\n"
    }
   },
   "outputs": [],
   "source": [
    "db = pd.read_csv('db.csv')"
   ]
  },
  {
   "cell_type": "code",
   "execution_count": null,
   "metadata": {
    "collapsed": false,
    "pycharm": {
     "name": "#%%\n"
    }
   },
   "outputs": [],
   "source": [
    "db"
   ]
  },
  {
   "cell_type": "code",
   "execution_count": null,
   "metadata": {
    "collapsed": false,
    "pycharm": {
     "name": "#%%\n"
    }
   },
   "outputs": [],
   "source": [
    "db = db.drop(columns=['Unnamed: 0'])"
   ]
  },
  {
   "cell_type": "code",
   "execution_count": null,
   "metadata": {
    "collapsed": false,
    "pycharm": {
     "name": "#%%\n"
    }
   },
   "outputs": [],
   "source": [
    "db.to_csv('db.csv', index=False)"
   ]
  },
  {
   "cell_type": "code",
   "execution_count": null,
   "metadata": {
    "collapsed": false,
    "pycharm": {
     "name": "#%%\n"
    }
   },
   "outputs": [],
   "source": [
    "benefits_db = pd.read_csv('benefits_db.csv')"
   ]
  },
  {
   "cell_type": "code",
   "execution_count": null,
   "metadata": {
    "collapsed": false,
    "pycharm": {
     "name": "#%%\n"
    }
   },
   "outputs": [],
   "source": [
    "benefits_db = benefits_db.drop(columns=['Unnamed: 0'])"
   ]
  },
  {
   "cell_type": "code",
   "execution_count": null,
   "metadata": {
    "collapsed": false,
    "pycharm": {
     "name": "#%%\n"
    }
   },
   "outputs": [],
   "source": [
    "benefits_db.to_csv('./benefits_db.csv', index=False)"
   ]
  },
  {
   "cell_type": "code",
   "execution_count": null,
   "metadata": {
    "collapsed": false,
    "pycharm": {
     "name": "#%%\n"
    }
   },
   "outputs": [],
   "source": [
    "benefits_db"
   ]
  },
  {
   "cell_type": "code",
   "execution_count": null,
   "metadata": {
    "collapsed": false,
    "pycharm": {
     "name": "#%%\n"
    }
   },
   "outputs": [],
   "source": [
    "benefits_details = pd.read_csv('benefits_details.csv')"
   ]
  },
  {
   "cell_type": "code",
   "execution_count": null,
   "metadata": {
    "collapsed": false,
    "pycharm": {
     "name": "#%%\n"
    }
   },
   "outputs": [],
   "source": [
    "benefits_details = benefits_details.drop(columns=['Unnamed: 0'])"
   ]
  },
  {
   "cell_type": "code",
   "execution_count": null,
   "metadata": {
    "collapsed": false,
    "pycharm": {
     "name": "#%%\n"
    }
   },
   "outputs": [],
   "source": [
    "benefits_details.to_csv('benefits_details.csv', index=True)"
   ]
  },
  {
   "cell_type": "code",
   "execution_count": null,
   "metadata": {
    "collapsed": false,
    "pycharm": {
     "name": "#%%\n"
    }
   },
   "outputs": [],
   "source": [
    "benefits_details['Ventajas y Beneficios'].str.strip()"
   ]
  },
  {
   "cell_type": "code",
   "execution_count": null,
   "metadata": {
    "collapsed": false,
    "pycharm": {
     "name": "#%%\n"
    }
   },
   "outputs": [],
   "source": [
    "db"
   ]
  },
  {
   "cell_type": "code",
   "execution_count": null,
   "metadata": {
    "collapsed": false,
    "pycharm": {
     "name": "#%%\n"
    }
   },
   "outputs": [],
   "source": [
    "first_meg"
   ]
  },
  {
   "cell_type": "code",
   "execution_count": null,
   "metadata": {
    "collapsed": false,
    "pycharm": {
     "name": "#%%\n"
    }
   },
   "outputs": [],
   "source": [
    "first_merge = benefits_db.merge(benefits_details, on=\"benefits_url\", how='inner')"
   ]
  },
  {
   "cell_type": "code",
   "execution_count": null,
   "metadata": {
    "collapsed": false,
    "pycharm": {
     "name": "#%%\n"
    }
   },
   "outputs": [],
   "source": [
    "first_merge"
   ]
  },
  {
   "cell_type": "code",
   "execution_count": null,
   "metadata": {
    "collapsed": false,
    "pycharm": {
     "name": "#%%\n"
    }
   },
   "outputs": [],
   "source": [
    "tmp_db = pd.read_csv('./tmp_db.csv')"
   ]
  },
  {
   "cell_type": "code",
   "execution_count": null,
   "metadata": {
    "collapsed": false,
    "pycharm": {
     "name": "#%%\n"
    }
   },
   "outputs": [],
   "source": [
    "tmp_db = tmp_db.drop(columns=[\"Unnamed: 0\"])"
   ]
  },
  {
   "cell_type": "code",
   "execution_count": null,
   "metadata": {
    "collapsed": false,
    "pycharm": {
     "name": "#%%\n"
    }
   },
   "outputs": [],
   "source": [
    "tmp_db.to_csv('./tmp_db.csv', index=False)"
   ]
  },
  {
   "cell_type": "code",
   "execution_count": null,
   "metadata": {
    "collapsed": false,
    "pycharm": {
     "name": "#%%\n"
    }
   },
   "outputs": [],
   "source": [
    "tmp_db"
   ]
  },
  {
   "cell_type": "code",
   "execution_count": null,
   "metadata": {
    "collapsed": false,
    "pycharm": {
     "name": "#%%\n"
    }
   },
   "outputs": [],
   "source": []
  },
  {
   "cell_type": "code",
   "execution_count": null,
   "metadata": {
    "collapsed": false,
    "pycharm": {
     "name": "#%%\n"
    }
   },
   "outputs": [],
   "source": [
    "second_merge = tmp_db.merge(first_merge, on=\"benefits_url\", how=\"inner\")[['current_url','Maternidad y Paternidad','Jubilación y Finanzas','Desarrollo Personal','Seguros, Salud y Bienestar', 'Vacaciones y Días Libres', 'Ventajas y Beneficios']]"
   ]
  },
  {
   "cell_type": "code",
   "execution_count": null,
   "metadata": {
    "collapsed": false,
    "pycharm": {
     "name": "#%%\n"
    }
   },
   "outputs": [],
   "source": [
    "second_merge"
   ]
  },
  {
   "cell_type": "code",
   "execution_count": null,
   "metadata": {
    "collapsed": false,
    "pycharm": {
     "name": "#%%\n"
    }
   },
   "outputs": [],
   "source": [
    "db"
   ]
  },
  {
   "cell_type": "code",
   "execution_count": null,
   "metadata": {
    "collapsed": false,
    "pycharm": {
     "name": "#%%\n"
    }
   },
   "outputs": [],
   "source": [
    "final_db = db.merge(second_merge, on=\"current_url\", how=\"inner\")[['Empresa','URL_Empresa','current_url','Sector','CEO','Maternidad y Paternidad','Jubilación y Finanzas','Desarrollo Personal','Seguros, Salud y Bienestar', 'Vacaciones y Días Libres', 'Ventajas y Beneficios']]"
   ]
  },
  {
   "cell_type": "code",
   "execution_count": null,
   "metadata": {
    "collapsed": false,
    "pycharm": {
     "name": "#%%\n"
    }
   },
   "outputs": [],
   "source": [
    "final_db.to_excel('db_final.xlsx', index=False)"
   ]
  },
  {
   "cell_type": "markdown",
   "metadata": {
    "collapsed": false,
    "pycharm": {
     "name": "#%% md\n"
    }
   },
   "source": [
    "# New database model"
   ]
  },
  {
   "cell_type": "code",
   "execution_count": null,
   "metadata": {
    "collapsed": false,
    "pycharm": {
     "name": "#%%\n"
    }
   },
   "outputs": [],
   "source": [
    "import pandas as pd\n",
    "import numpy as np"
   ]
  },
  {
   "cell_type": "code",
   "execution_count": null,
   "metadata": {
    "collapsed": false,
    "pycharm": {
     "name": "#%%\n"
    }
   },
   "outputs": [],
   "source": [
    "db = pd.read_excel('./db_glassdoor.xlsx')"
   ]
  },
  {
   "cell_type": "code",
   "execution_count": null,
   "metadata": {
    "collapsed": false,
    "pycharm": {
     "name": "#%%\n"
    }
   },
   "outputs": [],
   "source": [
    "db = db[['ID', 'Empresa','Sector', 'ID Sector', 'Maternidad y Paternidad', 'Jubilación y Finanzas', 'Desarrollo Personal', 'Seguros, Salud y Bienestar', 'Vacaciones y Días Libres', 'Ventajas y Beneficios']]"
   ]
  },
  {
   "cell_type": "code",
   "execution_count": null,
   "metadata": {
    "collapsed": false,
    "pycharm": {
     "name": "#%%\n"
    }
   },
   "outputs": [],
   "source": [
    "db.dtypes"
   ]
  },
  {
   "cell_type": "code",
   "execution_count": null,
   "metadata": {
    "collapsed": false,
    "pycharm": {
     "name": "#%%\n"
    }
   },
   "outputs": [],
   "source": [
    "db"
   ]
  },
  {
   "cell_type": "code",
   "execution_count": null,
   "metadata": {
    "collapsed": false,
    "pycharm": {
     "name": "#%%\n"
    }
   },
   "outputs": [],
   "source": [
    "complement_row = {\n",
    "    'ID': '',\n",
    "    'ID_Sector': '',\n",
    "    'Categoria': '',\n",
    "    'Beneficio': ''\n",
    "}\n",
    "\n",
    "from pathlib import Path\n",
    "\n",
    "complement_db = Path(\"./files/complement_db.csv\")\n",
    "\n",
    "with open(complement_db, mode=\"w\", encoding=\"utf8\") as file_csv:\n",
    "    file_str = \"\"\n",
    "    for index, item in db.iterrows():\n",
    "        try:\n",
    "            for e in item[\"Maternidad y Paternidad\"].split(','):\n",
    "                file_str = f\"{item['ID']},{item['ID Sector']},Maternidad y Paternidad,{e}\\n\"\n",
    "                file_csv.write(file_str)\n",
    "        except:\n",
    "            pass\n",
    "\n",
    "        try:\n",
    "            for e in item[\"Jubilación y Finanzas\"].split(','):\n",
    "                file_str = f\"{item['ID']},{item['ID Sector']},Jubilación y Finanzas,{e}\\n\"\n",
    "                file_csv.write(file_str)\n",
    "        except:\n",
    "            pass\n",
    "\n",
    "        try:\n",
    "            for e in item[\"Desarrollo Personal\"].split(','):\n",
    "                file_str = f\"{item['ID']},{item['ID Sector']},Desarrollo Personal,{e}\\n\"\n",
    "                file_csv.write(file_str)\n",
    "        except:\n",
    "            pass\n",
    "\n",
    "        try:\n",
    "            for e in item[\"Seguros Salud y Bienestar\"].split(','):\n",
    "                file_str = f\"{item['ID']},{item['ID Sector']},Seguros, Salud y Bienestar,{e}\\n\"\n",
    "                file_csv.write(file_str)\n",
    "        except:\n",
    "            pass\n",
    "\n",
    "        try:\n",
    "            for e in item[\"Vacaciones y Días Libres\"].split(','):\n",
    "                file_str = f\"{item['ID']},{item['ID Sector']},Vacaciones y Días Libres,{e}\\n\"\n",
    "                file_csv.write(file_str)\n",
    "        except:\n",
    "            pass\n",
    "\n",
    "        try:\n",
    "            for e in item[\"Ventajas y Beneficios\"].split(','):\n",
    "                file_str = f\"{item['ID']},{item['ID Sector']},Ventajas y Beneficios,{e}\\n\"\n",
    "                file_csv.write(file_str)\n",
    "\n",
    "        except:\n",
    "            pass"
   ]
  },
  {
   "cell_type": "code",
   "execution_count": null,
   "metadata": {
    "collapsed": false,
    "pycharm": {
     "name": "#%%\n"
    }
   },
   "outputs": [],
   "source": []
  }
 ],
 "metadata": {
  "kernelspec": {
   "display_name": "Python 3.9.12 ('base')",
   "language": "python",
   "name": "python3"
  },
  "language_info": {
   "codemirror_mode": {
    "name": "ipython",
    "version": 2
   },
   "file_extension": ".py",
   "mimetype": "text/x-python",
   "name": "python",
   "nbconvert_exporter": "python",
   "pygments_lexer": "ipython2",
   "version": "3.9.12"
  },
  "vscode": {
   "interpreter": {
    "hash": "1f979ba883fcf870d3332535379deb662bd8cd333f4315980399f1ccf3c2aa3e"
   }
  }
 },
 "nbformat": 4,
 "nbformat_minor": 0
}
